{
 "cells": [
  {
   "cell_type": "markdown",
   "metadata": {},
   "source": [
    "## Homework 6\n",
    "### Review the example usages of the RSA-related operations of the Crypto package given below and\n",
    "### refer to online documents of the package and google search for learning more about it.\n",
    "###\n",
    "### 1- Use the ssh-keygen on your computer to create the two id_rsa and id_rsa.pub files for a 2048 bit keys\n",
    "### 2- create your python script hw6_rsa.py with the following functions\n",
    "####\n",
    "#### As one of the tests for grading, we will provide our own keys and test for given plaintexts whete sequences of \n",
    "#### rsa_enc_public() + rsa_dec_private() and also rsa_end_private() + rsa_dec_public() recover the original plaintexts\n",
    " \n",
    "#### Function:"
   ]
  },
  {
   "cell_type": "code",
   "execution_count": 6,
   "metadata": {},
   "outputs": [
    {
     "name": "stdout",
     "output_type": "stream",
     "text": [
      "Keys:  (n=0xbbfc5c6fae21df73a2ddf716066cb2ea57209a4f8b1b6f53973477f0c37c120e307bab282d2477d906242b101a0be4c60d9979cd843e2ea6874b2fe07c99cc72c1d1db9181f013a6776f2124fded1396cc25178cdcc340a87aee4f76e6bba8784ba9edb84dc9e79632078a2ebb65a0fde3ef798da13765f13a9884e65fb49658bb00857df6fbe97d649ecb22d7b9b3f86ea76c4663e982ed91d7437fc33c6eea7605b032b89dabe6e76ee686509f0bb3f97ad9e3e1159657d3c65183a834aaa16f1840f95e4387d550e29a8f6fda9efa5ae8cd87331d60e846d14d14b746cc48b5a2f7770f15d6d0e31e39cdc2ab232ee53c686e49907e1f1c93444379bfbd17\n",
      "e=0x10001)\n"
     ]
    }
   ],
   "source": [
    "from Crypto.PublicKey import RSA\n",
    "from Crypto.Cipher import PKCS1_v1_5\n",
    "import binascii\n",
    "\n",
    "def importkeys(id_rsa_filename):\n",
    "    # This function receives the full path of the id_rsa file as a string (including the file name itself) and\n",
    "    # import the key information and returns the keypair\n",
    "    # example 'c:/myfolder/id_rsa' (using forward '/' helps avoid some string issues)\n",
    "    \n",
    "    # return the complete keypair in the keypair format used in Crypto RSA module.\n",
    "    f = open(id_rsa_filename, 'r')\n",
    "    keypair = RSA.importKey(f.read())\n",
    "    f.close()\n",
    "    return keypair\n",
    "\n",
    "# keypair1 = importkeys('/root/Documents/Network Security/RSA_key')\n",
    "# keypair = keypair1.publickey()\n",
    "# print(f\"Keys:  (n={hex(keypair.n)}\\ne={hex(keypair.e)})\")"
   ]
  },
  {
   "cell_type": "code",
   "execution_count": 18,
   "metadata": {},
   "outputs": [
    {
     "data": {
      "text/plain": [
       "b'[\\xb4j\\xa5;J\\x18e\\x9d\\xad\\x03\\x08W\\xa7\\xc3#\\xcb6U\\x13\\xd9\\xf2\\xf0\\xd2\\x02FS\\xd7$\\xdf%\\xf4Y\\x9b\\x14]-\\xb8\\xe7\\xdf\\xb4\\no\\r\\xbb\\xcf\\xec1&\\xc2k\\xc6\\x93\\x1b\\xec2\\x14\\xf3\\xaeYZ\\xd7\\x1e&%\\x8aws}\\x9f\\xb8\\x18\\x18\\x19]\\x17\\xac\\xdaN\\xcf\\xf4\\x13\\xa8\\x0e\\xf5\\x977\\x88rgvJ\\xc2\\x87gD\\x87\\xc7\\xb4\\xadH\\xae\\x91\\xbdC\\x11Y\\xf6Q\\xf9g\\xd6\\xe4\\xfe\\x9bA>BK\\xbb\\x0b\\xe9\\x0f[\\x97tz\\xff\\xf98\\xcfd\\x94\\x1a\\x9e\\xa4w>r\\x11\\xf5gDZ\\xe8Iu\\x98\\x97\\x14\\x9c\\xf8@\\xb8}m\\xe9)\\xb6e\\xb4.v\\x1e{\\xb1\\x84b\\xbd\\x11$=\\x99@\\xf8\\xdbS\\xf3\\x87\\xf7*G\\r;\\xd5#\\xfa\\xce\\x8bH[\\x8d\\x88\\xdb(#q\\xc1\\x10P\\x99\\xe3F\\x8a\\xa3Q\\x9c2\\xc1/\\xb75G>\\x10E;\\xe9\\x94\\\\?\\x12\\xb0\\x0e\\x92\\xb1\\xd8\\x02?w~\\xf4\\xd9 \\xc3b\\xa5\\x11,\\x89\\xf3mT\\xcbTew\\x16%\\xe1\\x98(\\xc0\\x19}\\xa8'"
      ]
     },
     "execution_count": 18,
     "metadata": {},
     "output_type": "execute_result"
    }
   ],
   "source": [
    "def rsa_enc_public(inputblock, keypair):\n",
    "    # inputblock is a plaintext defined as a byte sequence\n",
    "    # ciphertext is the encrypted data as byte sequence encrypted using the public key\n",
    "    pubkey = keypair.publickey()\n",
    "    encryptor = PKCS1_v1_5.new(pubkey)\n",
    "    encrypted = encryptor.encrypt(inputblock)\n",
    "    return encrypted\n",
    "\n",
    "rsa_enc_public(b'anush is a good boy', importkeys('/root/Documents/Network Security/RSA_key'))"
   ]
  },
  {
   "cell_type": "code",
   "execution_count": null,
   "metadata": {},
   "outputs": [],
   "source": [
    "def rsa_enc_private(inputblock, keypair):\n",
    "    # inputblock is a plaintext defined as a byte sequence\n",
    "    # ciphertext is the encrypted data as byte sequence encrypted using the private key\n",
    "    \n",
    "    return ciphertext"
   ]
  },
  {
   "cell_type": "code",
   "execution_count": null,
   "metadata": {},
   "outputs": [],
   "source": [
    "def rsa_dec_public(cipherblock, keypair):\n",
    "    # cipherblock is a given ciphertext defined as a byte sequence\n",
    "    # plaintext is the decrypted data as byte sequence decrypted using the public key\n",
    "    \n",
    "    return plaintext"
   ]
  },
  {
   "cell_type": "code",
   "execution_count": 16,
   "metadata": {},
   "outputs": [
    {
     "data": {
      "text/plain": [
       "b'anush is a good boy'"
      ]
     },
     "execution_count": 16,
     "metadata": {},
     "output_type": "execute_result"
    }
   ],
   "source": [
    "def rsa_dec_private(cipherblock, keypair):\n",
    "    # cipherblock is a given ciphertext defined as a byte sequence\n",
    "    # plaintext is the decrypted data as byte sequence decrypted using the private key\n",
    "    decryptor = PKCS1_v1_5.new(keypair)\n",
    "    plaintext = decryptor.decrypt(cipherblock, None)\n",
    "    return plaintext\n",
    "\n",
    "# rsa_dec_private(b'r\\xadd\\x04\\xe0g\\x06d#\\x84\\x18\\xce\\xe9\\x1d\\xe7\\x91_\\xac+\\xa7\\xc6S\\xc9\\x15\\'$3:\\xca\\x91\\xbea\\x95E\\x9c-X\\xc0,\\xa6m\\xcd\\x0c\\xa8z\\xef\\xe0L\\x87\\x0bu\\xb1\\x1dy\\xbd\\x0f\\xdc\\xd0\\xed\\xda\\x14\\x04\\xb6k\\xdbIQ\\xb7E\\x05M\\xe2\\xb5[Cz\"\\xe4\\x1c\\xb5\\xb9$\\xa8.\\xa7\\x8e\\xb9\\xb8\\xd9/\\xe5\\x03m\\xcf\\x11\\xa9\\x05\\xb9\\x089\\x0f\\xdf\\xf7\\x92\\x8f|\\xbdZ\\x97]HEz\\xfa/c\\xa4\\xcdhK\\x87L\\xc1:\\x03kR\\x80\\x05\\xb5v5O9\\x8d\\xd3i\\xbdJ\\xbf\\xaf/\\xe7\\x88@\\xaf\\r\\x95\\xa6H$K\\xb9ur\\x05\\x8a\\x93\\x13\\x8c\\x7f\\xe3\\xa8\\xed\\x8e\\x0b\\x9bD\\x1dm\\xda\\xabe\\xe6\\xfa\\x07\\xcc\\xc4\\xd5\\x83\\x1c\\xe0_\\xd3\\x8b\\xf3\\xfe\\x13\\xd3\\xb91\\xbc\\x06*\\x9b\\x1a\\\\\\x0cN\\x0b=\\xac^.\\xb1a\\xecsp\\xfa\\xf6\\xe3\\xeb?\\x97\\x9c\\x17m\\xe0c\\xd0C\\x14\\xd0o)\\x18[\\x11\\xc8)\\xab\\x1b\\xce\\x0b\\x88\\xcbO\\x8c:\\x90%\\x14\\x13c\\x91\\xf4`|(v\\xab\\x1f\\xa9\\x13\\x18', importkeys('/root/Documents/Network Security/RSA_key'))"
   ]
  },
  {
   "cell_type": "code",
   "execution_count": 1,
   "metadata": {},
   "outputs": [
    {
     "name": "stdout",
     "output_type": "stream",
     "text": [
      "Public key:  (n=0xc3e3064e1d2f4f1000ead34acf6124b321e106319a6c8c6cca1855e88764d489e1de72e369d3d4835d676dc5deffddd951328953f0e2372a6cc1ea2588bdba1f7b4f53ad85d3aed98f1f06e02d573948d4236be650136f6bc181d7776cf2ceff643011428f1654fc10b14e4a05a36e7955a2660183463bb26642df78b65fe6cb, e=0x10001)\n",
      "Private key: (n=0xc3e3064e1d2f4f1000ead34acf6124b321e106319a6c8c6cca1855e88764d489e1de72e369d3d4835d676dc5deffddd951328953f0e2372a6cc1ea2588bdba1f7b4f53ad85d3aed98f1f06e02d573948d4236be650136f6bc181d7776cf2ceff643011428f1654fc10b14e4a05a36e7955a2660183463bb26642df78b65fe6cb, d=0x5eb7828ff8caac5717aa743a63261cc1c52af27cbfa7a70adf797ee8adb712920d362ba54cc191ab6759a099a1e76495350ed39a540a7e14347c5b4484e7007c69e77ea286a572ffe8ee15b263c866b4c738e0ef35f0552c1a0f8e641f35f0f4a7e44657a35ab1760e0ae6ed4c9e92bd625a9db2e86ae697c33dc4e904bc3381)\n"
     ]
    }
   ],
   "source": [
    "# Don't include the following class material in your homework.\n",
    "# Homework 6: Experiments with RSA\n",
    "from Crypto.PublicKey import RSA\n",
    "from Crypto.Cipher import PKCS1_v1_5\n",
    "import binascii\n",
    "\n",
    "keyPair = RSA.generate(1024)\n",
    "\n",
    "pubKey = keyPair.publickey()\n",
    "print(f\"Public key:  (n={hex(pubKey.n)}, e={hex(pubKey.e)})\")\n",
    "pubKeyPEM = pubKey.exportKey()\n",
    "#print(pubKeyPEM.decode('ascii'))\n",
    "\n",
    "print(f\"Private key: (n={hex(pubKey.n)}, d={hex(keyPair.d)})\")\n",
    "privKeyPEM = keyPair.exportKey()\n",
    "#print(privKeyPEM.decode('ascii'))\n",
    "\n"
   ]
  },
  {
   "cell_type": "code",
   "execution_count": 12,
   "metadata": {},
   "outputs": [
    {
     "name": "stdout",
     "output_type": "stream",
     "text": [
      "Encrypted: b'bcd02dd163c4b17bef587141e4d1f44fb2cf49eada9949f20e3402d28eecee391c3a0797e5b6ceba6001b8e702404635a018e842312163765cdde4ed5091195b2bca62b7e55b89537da3678f84527540aaba5d491e7b821a903e8eef072f9fa4b4a159cce161de853bd3b3901b0e788e2fc16447da9b6224baee6e206c9216a2'\n"
     ]
    }
   ],
   "source": [
    "# Encryption using RSA\n",
    "msg = b'A message for encryption'\n",
    "encryptor = PKCS1_v1_5.new(pubKey)\n",
    "encrypted = encryptor.encrypt(msg)\n",
    "print(\"Encrypted:\", binascii.hexlify(encrypted))"
   ]
  },
  {
   "cell_type": "code",
   "execution_count": 11,
   "metadata": {},
   "outputs": [
    {
     "name": "stdout",
     "output_type": "stream",
     "text": [
      "Decrypted: b'A message for encryption'\n"
     ]
    }
   ],
   "source": [
    "# Decryption of RSA\n",
    "decryptor = PKCS1_v1_5.new(keyPair)\n",
    "decrypted = decryptor.decrypt(encrypted, None)\n",
    "print('Decrypted:', decrypted)"
   ]
  },
  {
   "cell_type": "code",
   "execution_count": 14,
   "metadata": {},
   "outputs": [
    {
     "name": "stdout",
     "output_type": "stream",
     "text": [
      "Requirement already satisfied: pycryptodome in /root/anaconda3/lib/python3.7/site-packages (3.9.7)\n",
      "Note: you may need to restart the kernel to use updated packages.\n"
     ]
    }
   ],
   "source": [
    "pip install pycryptodome"
   ]
  },
  {
   "cell_type": "code",
   "execution_count": 1,
   "metadata": {},
   "outputs": [
    {
     "ename": "NameError",
     "evalue": "name 'RSA' is not defined",
     "output_type": "error",
     "traceback": [
      "\u001b[0;31m---------------------------------------------------------------------------\u001b[0m",
      "\u001b[0;31mNameError\u001b[0m                                 Traceback (most recent call last)",
      "\u001b[0;32m<ipython-input-1-f663bc28298b>\u001b[0m in \u001b[0;36m<module>\u001b[0;34m\u001b[0m\n\u001b[1;32m      4\u001b[0m \u001b[0;31m#print(dir(RSA))\u001b[0m\u001b[0;34m\u001b[0m\u001b[0;34m\u001b[0m\u001b[0;34m\u001b[0m\u001b[0m\n\u001b[1;32m      5\u001b[0m \u001b[0mf\u001b[0m \u001b[0;34m=\u001b[0m \u001b[0mopen\u001b[0m\u001b[0;34m(\u001b[0m\u001b[0;34m'/root/Documents/Network Security/RSA_key'\u001b[0m\u001b[0;34m,\u001b[0m\u001b[0;34m'r'\u001b[0m\u001b[0;34m)\u001b[0m\u001b[0;34m\u001b[0m\u001b[0;34m\u001b[0m\u001b[0m\n\u001b[0;32m----> 6\u001b[0;31m \u001b[0mkeypair\u001b[0m \u001b[0;34m=\u001b[0m \u001b[0mRSA\u001b[0m\u001b[0;34m.\u001b[0m\u001b[0mimportKey\u001b[0m\u001b[0;34m(\u001b[0m\u001b[0mf\u001b[0m\u001b[0;34m.\u001b[0m\u001b[0mread\u001b[0m\u001b[0;34m(\u001b[0m\u001b[0;34m)\u001b[0m\u001b[0;34m)\u001b[0m\u001b[0;34m\u001b[0m\u001b[0;34m\u001b[0m\u001b[0m\n\u001b[0m\u001b[1;32m      7\u001b[0m \u001b[0mf\u001b[0m\u001b[0;34m.\u001b[0m\u001b[0mclose\u001b[0m\u001b[0;34m(\u001b[0m\u001b[0;34m)\u001b[0m\u001b[0;34m\u001b[0m\u001b[0;34m\u001b[0m\u001b[0m\n\u001b[1;32m      8\u001b[0m \u001b[0mprint\u001b[0m\u001b[0;34m(\u001b[0m\u001b[0;34mf\"Keys:  (n={hex(keypair.n)}\\ne={hex(keypair.e)}\\nd={hex(keypair.d)})\"\u001b[0m\u001b[0;34m)\u001b[0m\u001b[0;34m\u001b[0m\u001b[0;34m\u001b[0m\u001b[0m\n",
      "\u001b[0;31mNameError\u001b[0m: name 'RSA' is not defined"
     ]
    }
   ],
   "source": [
    "# use >ssh-keygen -t rsa -b 4096\n",
    "# it creates two files\n",
    "# \n",
    "#print(dir(RSA))\n",
    "f = open('/root/Documents/Network Security/RSA_key','r')\n",
    "keypair = RSA.importKey(f.read())\n",
    "f.close()\n",
    "print(f\"Keys:  (n={hex(keypair.n)}\\ne={hex(keypair.e)}\\nd={hex(keypair.d)})\")\n",
    "f = open('/root/Documents/Network Security/RSA_key.pub','r')\n",
    "pubkey = RSA.importKey(f.read())\n",
    "f.close()\n",
    "print(pubkey)\n",
    "print(f\"Pub Keys:  (n={hex(pubkey.n)}\\ne={hex(pubkey.e)})\")\n"
   ]
  },
  {
   "cell_type": "code",
   "execution_count": null,
   "metadata": {},
   "outputs": [],
   "source": []
  }
 ],
 "metadata": {
  "kernelspec": {
   "display_name": "Python 3",
   "language": "python",
   "name": "python3"
  },
  "language_info": {
   "codemirror_mode": {
    "name": "ipython",
    "version": 3
   },
   "file_extension": ".py",
   "mimetype": "text/x-python",
   "name": "python",
   "nbconvert_exporter": "python",
   "pygments_lexer": "ipython3",
   "version": "3.7.4"
  }
 },
 "nbformat": 4,
 "nbformat_minor": 2
}
