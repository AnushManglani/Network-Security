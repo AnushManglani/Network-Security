{
 "cells": [
  {
   "cell_type": "markdown",
   "metadata": {},
   "source": [
    "## A few tips for more efficient coding"
   ]
  },
  {
   "cell_type": "code",
   "execution_count": 1,
   "metadata": {},
   "outputs": [
    {
     "name": "stdout",
     "output_type": "stream",
     "text": [
      "MyPlainTextString\n",
      "myplaintextstring\n"
     ]
    }
   ],
   "source": [
    "# Unless otherwise stated, from now on we're going to eliminate spaces from our plaintext and only\n",
    "# work with continuous strings of characters in the {a, b, ..., z} range.\n",
    "\n",
    "# A simple way to eliminate spaces from a string is to use the replace() method\n",
    "s = 'My PlainText String'\n",
    "s = s.replace(' ','')\n",
    "print(s)\n",
    "\n",
    "# note that \"replace\" can be used for replacing any character with another character in a string\n",
    "# Other useful methods for use on string variables are upper() and lower() methods which convert all characters in a string \n",
    "# to uppercase or lowercase, respectively\n",
    "print(s.lower())"
   ]
  },
  {
   "cell_type": "code",
   "execution_count": 2,
   "metadata": {},
   "outputs": [
    {
     "name": "stdout",
     "output_type": "stream",
     "text": [
      "[12, 24, 15, 11, 0, 8, 13, 19, 4, 23, 19, 18, 19, 17, 8, 13, 6]\n"
     ]
    }
   ],
   "source": [
    "# We also showed in class how Python's list comprehensions can be used to efficiently convert strings to indices\n",
    "s = 'myplaintextstring'\n",
    "s_ind_list = [ord(c)-97 for c in s]\n",
    "print(s_ind_list)"
   ]
  },
  {
   "cell_type": "code",
   "execution_count": 3,
   "metadata": {
    "scrolled": true
   },
   "outputs": [
    {
     "name": "stdout",
     "output_type": "stream",
     "text": [
      "['m', 'y', 'p', 'l', 'a', 'i', 'n', 't', 'e', 'x', 't', 's', 't', 'r', 'i', 'n', 'g']\n",
      "myplaintextstring\n"
     ]
    }
   ],
   "source": [
    "# The reverse operation is also possible\n",
    "char_list = [chr(ind+97) for ind in s_ind_list]\n",
    "print(char_list)\n",
    "# The join method creates a string by \"joining\" all elements of the given list together using the provided character\n",
    "# In this case the provided character is null so all elements are just directly attached together to give us s\n",
    "s = ''.join(char_list)\n",
    "print(s)"
   ]
  },
  {
   "cell_type": "code",
   "execution_count": 4,
   "metadata": {},
   "outputs": [
    {
     "name": "stdout",
     "output_type": "stream",
     "text": [
      "['m', 'y', 'p']\n",
      "['l', 'a', 'i']\n",
      "['n', 't', 'e']\n",
      "['x', 't', 's']\n",
      "['t', 'r', 'i']\n",
      "['n', 'g']\n"
     ]
    }
   ],
   "source": [
    "# Another tip is for when we need to work on chunks of a list (for example in Hill 3x3 cipher we need\n",
    "# to select the elements of the plaintext in chunks of 3)\n",
    "# we can use the range function with the step of 3\n",
    "for i in range(0,len(char_list),3):  # it means integers from 0 to len(char_list)-1 with step 3\n",
    "    sublist = char_list[i:i+3]  # it means elements i,i+1,i+2 (the last element -1)\n",
    "    print(sublist)"
   ]
  },
  {
   "cell_type": "markdown",
   "metadata": {},
   "source": [
    "## Finding mod-26 inverse of a matrix"
   ]
  },
  {
   "cell_type": "markdown",
   "metadata": {},
   "source": [
    "### We mentioned that the modulo 26 inverse of a matrix may noit exists. But if it does, we can make use\n",
    "### of the normal inverse and determinent of a matrix calculations given by some math packages to find the\n",
    "### mod-26 inverse of a matrix\n",
    "### Our Notation (We focus on 3x3 matrices, but this logic works for larger matrices as well):\n",
    "### R: set of all real numbers\n",
    "### M: original matrix with elements in range 0-25 (a 3x3 matrix)\n",
    "### Minv: real inverse of M (a 3x3 matrix, values in R)\n",
    "### Mdet: real determinant of M (a number, in R)\n",
    "### Madj: real adjoint matrix of M (3x3 matrix, values in R)\n",
    "\n",
    "### Similarly, we use a 26 suffix to show the equivalent of the above values in mod-26 space i.e.,\n",
    "### Minv26: mod-26 inverse of M (a 3x3 matrix, values in 0-25)\n",
    "### Mdet26: mod-26 determinant of M (a number in 0-25)\n",
    "### Mdetinv26: mod-26 inverse Mdet26 (a number in 0-25)\n",
    "### Madj26: mod-26 adjoint matrix of M (3x3 matrix, values in 0-25)\n",
    "\n",
    "### For real matrices we have the following equation for finding the inverse matrix:\n",
    "### Minv = (1/Mdet) * Madj     (Eq. 2)\n",
    "\n",
    "### But for mod-26 matrices:\n",
    "### Minv26 = (Mdetinv26 *  Madj26)%26     (Eq. 1)\n"
   ]
  },
  {
   "cell_type": "code",
   "execution_count": 5,
   "metadata": {},
   "outputs": [
    {
     "name": "stdout",
     "output_type": "stream",
     "text": [
      "1 1\n",
      "3 9\n",
      "5 21\n",
      "7 15\n",
      "9 3\n",
      "11 19\n",
      "15 7\n",
      "17 23\n",
      "19 11\n",
      "21 5\n",
      "23 17\n",
      "25 25\n"
     ]
    }
   ],
   "source": [
    "# Let's first see how Mdetinv26 is defined for equation (1) above. The mod-26 inverse of a number m between 0-25 is another number n \n",
    "# in that range such that\n",
    "# m*n mod 26 = 1\n",
    "# For example the inverse of 3 is 9 since 3*9 mod 26 = 27 mod 26 = 1.\n",
    "# Not all 0-25 numbers have a mod-26 inverse. Let's try to find those that have inverses\n",
    "Mod26invTable = {}\n",
    "for m in range(26):\n",
    "    for n in range(26):\n",
    "        if (m*n)%26==1:\n",
    "            Mod26invTable[m] = n\n",
    "            print(m,n)\n",
    "\n",
    "# So, if we are lucky and Mdet26 is one of the above integers, it has an inverse and we can find it from the \n",
    "# above table we just constructed.\n",
    "# For example, inverse of 3 is stored in Mod26invTable[3]\n",
    "\n",
    "# In other words, if a python function, gives us the real determinant Mdet of M, we can find Mdetinv26 from:\n",
    "# Mdetinv26 = Mod26invTable[Mdet%26]  (provided that Mdet%26 has an inverse)\n"
   ]
  },
  {
   "cell_type": "code",
   "execution_count": 6,
   "metadata": {},
   "outputs": [
    {
     "name": "stdout",
     "output_type": "stream",
     "text": [
      "M: \n",
      "[[17 17  5]\n",
      " [21 18 21]\n",
      " [ 2  2 19]]\n",
      "Minv26:\n",
      "[[ 4.  9. 15.]\n",
      " [15. 17.  6.]\n",
      " [24.  0. 17.]]\n",
      "M x Minv26: \n",
      "[[1. 0. 0.]\n",
      " [0. 1. 0.]\n",
      " [0. 0. 1.]]\n",
      "[[1.0, 0.0, 0.0], [0.0, 1.0, 0.0], [0.0, 0.0, 1.0]]\n"
     ]
    }
   ],
   "source": [
    "# Let's now see how we can compute Madj26 for equatin (1).\n",
    "# Madj26 is actually Madj mod 26 so we need to find Madj\n",
    "# The numpy module in Python has functions for Minv and Mdet and we can always find Madj form Minv and Mdet \n",
    "# using equation (2) above:\n",
    "# Madj = Mdet * Minv, therefore\n",
    "# Madj26 = (Mdet*Minv)%26\n",
    "import numpy as np\n",
    "from pprint import pprint\n",
    "\n",
    "M = np.array([[17,17,5],[21,18,21],[2,2,19]])\n",
    "print(\"M: \")\n",
    "print(M)\n",
    "Minv = np.linalg.inv(M)\n",
    "Mdet = np.linalg.det(M)\n",
    "\n",
    "# Let's find Mdet26 and Mdetinv26\n",
    "Mdet26 = Mdet%26\n",
    "if Mdet26 in Mod26invTable:\n",
    "    Mdetinv26 = Mod26invTable[Mdet26]\n",
    "else:\n",
    "    Mdetinv26 = None # This should be an exit point since we can't find an inverse for M in mod-26\n",
    "\n",
    "#print(Mdet,Mdetinv26)\n",
    "\n",
    "# Now, Let's find Madj26\n",
    "Madj = Mdet*Minv\n",
    "Madj26 = Madj%26\n",
    "\n",
    "\n",
    "#print(np.matmul(M,Minv))\n",
    "\n",
    "#So, The mod-26 inverse of M from equation (1) will be\n",
    "Minv26 = (Mdetinv26*Madj26)%26\n",
    "# We need to convert it to pure integers. So we round the elments and then do mod-26 again\n",
    "Minv26 = np.matrix.round(Minv26, 0)%26\n",
    "\n",
    "print(\"Minv26:\")\n",
    "print(Minv26)\n",
    "\n",
    "# Let's check and see if we did right:\n",
    "# M x Minv26 should be I (we need some rounding and %26 operations)\n",
    "MMinv26 = np.matmul(M,Minv26)%26\n",
    "MMinv26 = np.matrix.round(MMinv26,0)\n",
    "\n",
    "print(\"M x Minv26: \")\n",
    "print(MMinv26)\n",
    "# If we wish to convert a matrix back from numpy format to basic list-of-lists format, \n",
    "# we can use the tolist() method:\n",
    "print(MMinv26.tolist())\n",
    "\n",
    "# # Mcr = np.matrix.round(Minv % 26, 0)%26\n",
    "# print(Mdet)"
   ]
  },
  {
   "cell_type": "markdown",
   "metadata": {},
   "source": [
    "# Homework 2- Part 1: Vigenere Cipher\n",
    "## Write an encryption and a decryption function for Vigenere cipher as described below"
   ]
  },
  {
   "cell_type": "code",
   "execution_count": 7,
   "metadata": {},
   "outputs": [],
   "source": [
    "# Hint: You can use your homework1 caesar encryption and decryption functions but you need to copy them\n",
    "#       here and avoid importing that homework since we won't be able to do the same thing for grading.\n",
    "# We will be importing this python file and call its functions in another grading script. So we don't need any\n",
    "# command line argument support like what we did for the caesar cipher.\n",
    "\n",
    "def ch_enc(ch, V):\n",
    "    val = ord(ch)\n",
    "    K = ord(V) - 97\n",
    "    enc_ch = chr((val + K - 97)%26 + 97)\n",
    "    return enc_ch\n",
    "\n",
    "def ch_dec (ch, V):\n",
    "    val = ord(ch)\n",
    "    K = ord(V) - 97\n",
    "    dec_ch = chr((val - K - 97)%26 + 97)\n",
    "    return dec_ch\n",
    "\n",
    "# Vigenere encryption function\n",
    "def vigenere_enc(keyword, plaintext):\n",
    "    # keyword is a string of arbitrary length\n",
    "    # plaintext is the plaintext string of arbitrary length\n",
    "    # Both strings will be from {a,b,...,z}\n",
    "    \n",
    "    # perform the encryption of given plaintext using the given keyword\n",
    "    # according to the Vigenere cipher. You need to repeat the keyword \n",
    "    # enough times if needed to make it the same length as plaintext\n",
    "    \n",
    "    # c will be the resulting ciphertext\n",
    "    #c = ...\n",
    "    c = ''\n",
    "    for i in range(0, len(plaintext)):\n",
    "        c = c + ch_enc(plaintext[i], keyword[i%len(keyword)])\n",
    "    \n",
    "    return c\n",
    "\n",
    "\n",
    "# Vionegere decryption function\n",
    "def vigenere_dec(keyword, ciphertext):\n",
    "    # keyword is a string of arbitrary length\n",
    "    # ciphertext is the ciphertext string of arbitrary length\n",
    "    # Both strings will be from {a,b,...,z}\n",
    "    \n",
    "    # perform the decryption of given ciphertext using the given keyword\n",
    "    # according to the Vigenere cipher. You need to repeat the keyword \n",
    "    # enough times if needed to make it the same length as ciphertext\n",
    "    \n",
    "    # p will be the resulting plaintext\n",
    "    # p = ...\n",
    "    p = ''\n",
    "    for i in range(0, len(ciphertext)):\n",
    "        p = p + ch_dec(ciphertext[i], keyword[i%len(keyword)])\n",
    "    \n",
    "    return p\n",
    "    "
   ]
  },
  {
   "cell_type": "markdown",
   "metadata": {},
   "source": [
    "# Homework 2- Part 2: Hill Cipher\n",
    "## Write an encryption and a decryption function for Hill cipher as described below"
   ]
  },
  {
   "cell_type": "code",
   "execution_count": 8,
   "metadata": {},
   "outputs": [
    {
     "name": "stdout",
     "output_type": "stream",
     "text": [
      "jequzt\n",
      "anushx\n"
     ]
    }
   ],
   "source": [
    "# Use the discussion above for finding the mod-26 inverse of a matrix and write the encryption and decryption \n",
    "# functions for a 3x3 Hill cipher.\n",
    "import numpy as np\n",
    "\n",
    "# 1- clean up the inverting operations explained above to get a matrix inversion-mod-26 function\n",
    "def matrixinvmod26(Marr):\n",
    "    # Both the input argument M an doutput Minv26 are in the list of lists format i.e.,\n",
    "    # [[M11,M12,M13],[M21,M22,M23],[M31,M32,M33]]\n",
    "    # use np.array() and tolist() functions as described above for conversion between matrix and list-of-lists \n",
    "    \n",
    "    # Calculate Minv26\n",
    "    Minv = np.linalg.inv(Marr)\n",
    "    Mdet = np.linalg.det(Marr)\n",
    "    \n",
    "    Mod26invTable = {}\n",
    "    for m in range(26):\n",
    "        for n in range(26):\n",
    "            if (m*n)%26==1:\n",
    "                Mod26invTable[m] = n\n",
    "    \n",
    "    Mdet26 = Mdet%26\n",
    "    if Mdet26 in Mod26invTable:\n",
    "        Mdetinv26 = Mod26invTable[Mdet26]\n",
    "    else:\n",
    "        Mdetinv26 = None\n",
    "        print(\"No inverse found\")\n",
    "        exit()\n",
    "    \n",
    "    Madj = Mdet*Minv\n",
    "    Madj26 = Madj%26\n",
    "    Minv26 = (Mdetinv26*Madj26)%26\n",
    "    Minv26 = np.matrix.round(Minv26, 0)%26\n",
    "    \n",
    "    return Minv26\n",
    "\n",
    "# 2- write the Hill encryption function \n",
    "def hill_enc(M, plaintext):\n",
    "    # M is the encryption matrix - Let's assume it's always 3x3 for now\n",
    "    # M is in the list of lists format i.e.,\n",
    "    # [[M11,M12,M13],[M21,M22,M23],[M31,M32,M33]]\n",
    "    # plaintext is the plaintext string of arbitrary length\n",
    "    # from {a,b,...,z}\n",
    "    \n",
    "    # perform the encryption of given plaintext using the given matrix M\n",
    "    # according to the Hill cipher. Pad the plaintext with 'x' characters to \n",
    "    # make its length a multiple of 3.     \n",
    "    \n",
    "    # Some helpful funcitons:\n",
    "    # len(plaintext) : gives the length of the plaintext string\n",
    "    # one way of selecting chunks of 3 elements from a list:\n",
    "    # \n",
    "    \n",
    "    # c will be the resulting ciphertext\n",
    "    #c = ...\n",
    "    c = ''\n",
    "    tmp = []\n",
    "    if len(plaintext)%3 != 0:\n",
    "        plaintext = plaintext + 'x'*(3-len(plaintext)%3)\n",
    "        \n",
    "#     print(\"Plain text after padding\", plaintext)\n",
    "        \n",
    "    plaintext_list = [ord(p)-97 for p in plaintext]\n",
    "#     print(\"plaintext_list= \", plaintext_list)\n",
    "    Marr = np.array(M)\n",
    "#     print(\"Key array\", Marr)\n",
    "    \n",
    "    for i in range(0, len(plaintext_list), 3):\n",
    "        sublist = plaintext_list[i:i+3]\n",
    "#         print(\"sublist= \", sublist)\n",
    "        subarr = np.array(sublist)\n",
    "#         print(\"subarr= \", subarr)\n",
    "        subarr_enc = np.matrix.round(np.matmul(M, subarr)%26, 0)%26\n",
    "#         print(\"subarr_enc= \", subarr_enc)\n",
    "        sublist_enc = subarr_enc.tolist()\n",
    "#         print(\"sublist_enc= \", sublist_enc)\n",
    "        tmp.extend(sublist_enc)\n",
    "#         print(\"tmp= \", tmp)\n",
    "    \n",
    "    c = c.join(chr(x+97) for x in tmp)\n",
    "    return c\n",
    "\n",
    "\n",
    "# 3- write the Hill decryption function\n",
    "def hill_dec(M, ciphertext):\n",
    "    # M is the encryption matrix - Let's assume it's always 3x3 for now\n",
    "    # M is in the list of lists format i.e.,\n",
    "    # [[M11,M12,M13],[M21,M22,M23],[M31,M32,M33]]\n",
    "    # ciphertext is the ciphertext string of arbitrary length\n",
    "    # from {a,b,...,z}\n",
    "    \n",
    "    # perform the decryption of given ciphertext using the given matrix M\n",
    "    # according to the Hill cipher. \n",
    "    \n",
    "    # p will be the resulting plaintext\n",
    "    # p = ...\n",
    "    p = ''\n",
    "    tmp = []\n",
    "    \n",
    "    ciphertext_list = [ord(x)-97 for x in ciphertext]\n",
    "#     print(\"ciphertext_list= \", ciphertext_list)\n",
    "    \n",
    "    Marr = np.array(M)\n",
    "#     print(\"Key array= \", Marr)\n",
    "    Minv = matrixinvmod26(Marr)\n",
    "#     print(\"Key inverse array= \", Minv)\n",
    "    \n",
    "    for i in range(0, len(ciphertext_list), 3):\n",
    "        sublist = ciphertext_list[i:i+3]\n",
    "#         print(\"sublist= \", sublist)\n",
    "        subarr = np.array(sublist)\n",
    "#         print(\"subarr= \", subarr)\n",
    "        subarr_dec = np.matrix.round(np.matmul(Minv, subarr)%26, 0)%26\n",
    "#         print(\"subarr_dec= \", subarr_dec)\n",
    "        sublist_dec = subarr_dec.tolist()\n",
    "#         print(\"sublist_dec= \", sublist_dec)\n",
    "        tmp.extend(sublist_dec)\n",
    "#         print(\"tmp= \", tmp)\n",
    "        \n",
    "    p = p.join(chr(int(x)+97) for x in tmp)\n",
    "    return p\n",
    "    \n",
    "enct = hill_enc([[17,17,5],[21,18,21],[2,2,19]], 'anush')\n",
    "print(enct)\n",
    "print(hill_dec([[17,17,5],[21,18,21],[2,2,19]], enct))"
   ]
  },
  {
   "cell_type": "code",
   "execution_count": null,
   "metadata": {},
   "outputs": [],
   "source": []
  }
 ],
 "metadata": {
  "kernelspec": {
   "display_name": "Python 3",
   "language": "python",
   "name": "python3"
  },
  "language_info": {
   "codemirror_mode": {
    "name": "ipython",
    "version": 3
   },
   "file_extension": ".py",
   "mimetype": "text/x-python",
   "name": "python",
   "nbconvert_exporter": "python",
   "pygments_lexer": "ipython3",
   "version": "3.7.4"
  }
 },
 "nbformat": 4,
 "nbformat_minor": 2
}
