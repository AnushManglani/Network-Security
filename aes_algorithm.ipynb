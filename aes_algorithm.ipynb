{
 "cells": [
  {
   "cell_type": "code",
   "execution_count": null,
   "metadata": {},
   "outputs": [],
   "source": [
    "# Homework 5\n",
    "# Testing the avalanche properties of AES using an automated code\n",
    "\n",
    "# Write a function to test the avalanche property of AES when different single bits of \n",
    "# the inputblock are inverted. \n",
    "\n",
    "# In this experiment you receive an initial inputblock and key to perform AES encryption and\n",
    "# find the cipherblock. Then you will use the bitlist provided as the 3rd input to the function\n",
    "# to decide which bit of the inputblock to invert in additional experiments and then perform the\n",
    "# AES encryption again on the modified input (with only one bit difference to original input)\n",
    "# Then you compare the ciphertext for each additional experiment with the ciphertext of the\n",
    "# original experiment and count the number of bits that are different between them.\n",
    "\n",
    "# The output of your function will be the list of the number-of-differences from all experiments\n",
    "\n",
    "# Make sure you test your code before submission by setting the bitlist to [7] and comparing the results \n",
    "# with Table 6.5 and Table 6.6 of the textbook. you can also try inverting other bit values manually and generate \n",
    "# ciphers using the AES example we did in the class and compare with the output of your function.\n",
    "\n",
    "# As usual, we will import your submitted python file in another script and just call the aes_input_av_test() and\n",
    "# aes_key_av_test() functions and check the output list of each function. It's ok if you have other utility functions\n",
    "# in your submission and they will not be called or tested.\n",
    "# plainblock = int(temp, 2).to_bytes(len(temp) // 8, byteorder='big')"
   ]
  },
  {
   "cell_type": "code",
   "execution_count": 2,
   "metadata": {},
   "outputs": [],
   "source": [
    "def byteseq2binstr(byteseq):\n",
    "    # first convert to a list string binary representations of each byte\n",
    "    bitslist2 = [bin(int(b))[2:].zfill(8) for b in byteseq]\n",
    "    \n",
    "    # then merge all those strings\n",
    "    allbitsstr = ''.join(bitslist2)\n",
    "    \n",
    "    return allbitsstr"
   ]
  },
  {
   "cell_type": "code",
   "execution_count": 25,
   "metadata": {},
   "outputs": [],
   "source": [
    "def XORbits(bitstr1,bitstr2):\n",
    "    # Both bit strings should be the same length\n",
    "    # output will be a string with the same length\n",
    "    B1 = [int(q) for q in bitstr1]\n",
    "    B2 = [int(w) for w in bitstr2]\n",
    "    xor_result = ''.join([str(d^f) for d,f in zip(B1, B2)])\n",
    "    \n",
    "    return xor_result"
   ]
  },
  {
   "cell_type": "code",
   "execution_count": 26,
   "metadata": {},
   "outputs": [
    {
     "name": "stdout",
     "output_type": "stream",
     "text": [
      "00000001\n"
     ]
    }
   ],
   "source": [
    "b = 7\n",
    "a = '0'*(b) + '1' + '0'*(7-b)\n",
    "print(a)"
   ]
  },
  {
   "cell_type": "code",
   "execution_count": 31,
   "metadata": {},
   "outputs": [
    {
     "data": {
      "text/plain": [
       "b'\\x00\\x01\\x01\\x01\\x01\\x01\\x01\\x01\\x00\\x01\\x01\\x01\\x01\\x01\\x01\\x00'"
      ]
     },
     "execution_count": 31,
     "metadata": {},
     "output_type": "execute_result"
    }
   ],
   "source": [
    "def invertbit(inputblock, b):\n",
    "    inputblockstr = byteseq2binstr(inputblock)\n",
    "    xorstr = '0'*(b) + '1' + '0'*(127-b)\n",
    "    res = XORbits(inputblockstr, xorstr)\n",
    "    return int(res, 2).to_bytes(len(res) // 8, byteorder='big')\n",
    "\n",
    "invertbit(b'\\x00\\x01\\x01\\x01\\x01\\x01\\x01\\x01\\x00\\x01\\x01\\x01\\x01\\x01\\x01\\x01', 127)"
   ]
  },
  {
   "cell_type": "code",
   "execution_count": 39,
   "metadata": {},
   "outputs": [
    {
     "data": {
      "text/plain": [
       "16"
      ]
     },
     "execution_count": 39,
     "metadata": {},
     "output_type": "execute_result"
    }
   ],
   "source": [
    "def findbitdiff(originalcipher, newcipher):\n",
    "    orig = byteseq2binstr(originalcipher)\n",
    "    new = byteseq2binstr(newcipher)\n",
    "    count = 0\n",
    "    for i in range(0, len(orig)):\n",
    "        if orig[i] != new[i]:\n",
    "            count = count+1\n",
    "    \n",
    "    return count\n",
    "\n",
    "findbitdiff(b'\\xff\\xff', b'\\x00\\x00')"
   ]
  },
  {
   "cell_type": "code",
   "execution_count": 3,
   "metadata": {},
   "outputs": [
    {
     "name": "stdout",
     "output_type": "stream",
     "text": [
      "10000111101001101100100010011010101100010000011001101100111101101001010101110110000010100111100001000111111111100101001000110100\n",
      "00110001001100100011001100110100001101010011011000110111001110000011100100110000001100010011001000110011001101000011010100110110\n"
     ]
    }
   ],
   "source": [
    "from Crypto.Cipher import AES\n",
    "key = b'Sixteen byte key'\n",
    "msg = b'1234567890123456'\n",
    "cipher = AES.new(key, AES.MODE_ECB)\n",
    "enc_msg = cipher.encrypt(msg)\n",
    "print(byteseq2binstr(enc_msg))\n",
    "dec_msg = cipher.decrypt(enc_msg)\n",
    "print(byteseq2binstr(dec_msg))"
   ]
  },
  {
   "cell_type": "code",
   "execution_count": 40,
   "metadata": {},
   "outputs": [
    {
     "data": {
      "text/plain": [
       "[62, 58, 68, 66, 65, 65]"
      ]
     },
     "execution_count": 40,
     "metadata": {},
     "output_type": "execute_result"
    }
   ],
   "source": [
    "def aes_input_av_test(inputblock, key, bitlist):\n",
    "    # inputblock and key are 16 byte values each\n",
    "    # bitlist is a list of integers that define the position of the\n",
    "    # bit in the inputblock that needs to be inverted, one at a time, for example\n",
    "    # [0, 3, 6, 25, 78, 127]\n",
    "    \n",
    "    # 1- any initializations necessary\n",
    "    diff_list = []\n",
    "    \n",
    "    # 2- perform encryption of the original values\n",
    "    #    anyway you like. It doesn't have to be with \n",
    "    #    with this exact function form\n",
    "    cipher = AES.new(key, AES.MODE_ECB)\n",
    "    originalcipher = cipher.encrypt(inputblock)\n",
    "    \n",
    "    # 3- for every value given in the bitlist:\n",
    "    for b in bitlist:\n",
    "        #invert the value of the corresponding bit in the inputblock (doesn't have to be in this exact\n",
    "        # function form)\n",
    "        newinput = invertbit(inputblock, b)\n",
    "        \n",
    "        # perform encryption\n",
    "        newcipher = cipher.encrypt(newinput)\n",
    "        \n",
    "        # find the number of bit differences between the two ciphertexts (doesn't have to be exactly in\n",
    "        # this function form)\n",
    "        # Use any method you like to find the difference. \n",
    "        numbitdifferences = findbitdiff (originalcipher, newcipher)\n",
    "        \n",
    "        # add it to the list\n",
    "        diff_list.append(numbitdifferences)\n",
    "        \n",
    "    # return the list of numbers\n",
    "    return diff_list\n",
    "\n",
    "aes_input_av_test(b'\\x01\\x23\\x45\\x67\\x89\\xab\\xcd\\xef\\xfe\\xdc\\xba\\x98\\x76\\x54\\x32\\x10', b'\\x0f\\x15\\x71\\xc9\\x47\\xd9\\xe8\\x59\\x0c\\xb7\\xad\\xd6\\xaf\\x7f\\x67\\x98', [0, 7, 6, 25, 78, 127])"
   ]
  },
  {
   "cell_type": "code",
   "execution_count": 41,
   "metadata": {},
   "outputs": [
    {
     "data": {
      "text/plain": [
       "[61, 53, 62, 70, 70, 67]"
      ]
     },
     "execution_count": 41,
     "metadata": {},
     "output_type": "execute_result"
    }
   ],
   "source": [
    "# We also perform similar experiment by keeping the inputblocl fixed and changing the\n",
    "# selected bits of the key\n",
    "def aes_key_av_test(inputblock, key, bitlist):\n",
    "    # inputblock and key are 16 byte values each\n",
    "    # bitlist is a list of integers that define the position of the\n",
    "    # bit in the key that needs to be inverted, one at a time, for example\n",
    "    # [0, 3, 6, 25, 78, 127]\n",
    "    \n",
    "    # 1- any initializations necessary\n",
    "    diff_list = []\n",
    "    \n",
    "    # 2- perform encryption of the original values\n",
    "    #    anyway you like. It doesn't have to be with \n",
    "    #    with this exact function form\n",
    "    cipher = AES.new(key, AES.MODE_ECB)\n",
    "    originalcipher = cipher.encrypt(inputblock)\n",
    "    \n",
    "    # 3- for every value given in the bitlist:\n",
    "    for b in bitlist:\n",
    "        #invert the value of the corresponding bit in the key (doesn't have to be in this exact\n",
    "        # function form)\n",
    "        newkey = invertbit(key, b)\n",
    "        cipher = AES.new(newkey, AES.MODE_ECB)\n",
    "        # perform encryption\n",
    "        newcipher = cipher.encrypt(inputblock)\n",
    "        \n",
    "        # find the number of bit differences between the two ciphertexts (doesn't have to be exactly in\n",
    "        # this function form)\n",
    "        numbitdifferences = findbitdiff (originalcipher, newcipher)\n",
    "        \n",
    "        # add it to the list\n",
    "        diff_list.append(numbitdifferences)\n",
    "        \n",
    "    # return the list of numbers\n",
    "    return diff_list\n",
    "\n",
    "# aes_key_av_test(b'\\x01\\x23\\x45\\x67\\x89\\xab\\xcd\\xef\\xfe\\xdc\\xba\\x98\\x76\\x54\\x32\\x10', b'\\x0f\\x15\\x71\\xc9\\x47\\xd9\\xe8\\x59\\x0c\\xb7\\xad\\xd6\\xaf\\x7f\\x67\\x98', [0, 7, 6, 25, 78, 127])\n",
    "\n",
    "    \n",
    "    \n",
    "    "
   ]
  },
  {
   "cell_type": "code",
   "execution_count": null,
   "metadata": {},
   "outputs": [],
   "source": []
  }
 ],
 "metadata": {
  "kernelspec": {
   "display_name": "Python 3",
   "language": "python",
   "name": "python3"
  },
  "language_info": {
   "codemirror_mode": {
    "name": "ipython",
    "version": 3
   },
   "file_extension": ".py",
   "mimetype": "text/x-python",
   "name": "python",
   "nbconvert_exporter": "python",
   "pygments_lexer": "ipython3",
   "version": "3.7.4"
  }
 },
 "nbformat": 4,
 "nbformat_minor": 2
}
